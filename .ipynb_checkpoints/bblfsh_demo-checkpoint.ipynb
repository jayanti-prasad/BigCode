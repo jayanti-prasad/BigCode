{
 "cells": [
  {
   "cell_type": "code",
   "execution_count": 188,
   "metadata": {},
   "outputs": [
    {
     "name": "stdout",
     "output_type": "stream",
     "text": [
      "{'id': 0, 'internal_type': 'java:CompilationUnit', 'roles': ['FILE'], 'token': '', 'start_line': 1, 'end_line': 6}\n",
      "{'id': 1, 'internal_type': 'java:TypeDeclaration', 'roles': ['VISIBILITY', 'WORLD', 'DECLARATION', 'TYPE'], 'token': '', 'start_line': 1, 'end_line': 5}\n",
      "{'id': 2, 'internal_type': 'uast:FunctionGroup', 'roles': [], 'token': '', 'start_line': 2, 'end_line': 4}\n",
      "{'id': 3, 'internal_type': 'uast:Alias', 'roles': [], 'token': '', 'start_line': 0, 'end_line': 0}\n",
      "{'id': 4, 'internal_type': 'uast:Identifier', 'roles': [], 'token': 'main', 'start_line': 2, 'end_line': 2}\n",
      "{'id': 5, 'internal_type': 'uast:Function', 'roles': [], 'token': '', 'start_line': 0, 'end_line': 0}\n",
      "{'id': 6, 'internal_type': 'uast:Block', 'roles': [], 'token': '', 'start_line': 2, 'end_line': 4}\n",
      "{'id': 7, 'internal_type': 'java:ExpressionStatement', 'roles': ['STATEMENT'], 'token': '', 'start_line': 3, 'end_line': 3}\n",
      "{'id': 8, 'internal_type': 'java:MethodInvocation', 'roles': ['EXPRESSION', 'CALL'], 'token': '', 'start_line': 3, 'end_line': 3}\n",
      "{'id': 9, 'internal_type': 'uast:String', 'roles': ['CALL', 'ARGUMENT', 'POSITIONAL'], 'token': '', 'start_line': 3, 'end_line': 3}\n",
      "{'id': 10, 'internal_type': 'uast:QualifiedIdentifier', 'roles': ['CALL', 'RECEIVER'], 'token': '', 'start_line': 3, 'end_line': 3}\n",
      "{'id': 11, 'internal_type': 'uast:Identifier', 'roles': [], 'token': 'System', 'start_line': 3, 'end_line': 3}\n",
      "{'id': 12, 'internal_type': 'uast:Identifier', 'roles': [], 'token': 'out', 'start_line': 3, 'end_line': 3}\n",
      "{'id': 13, 'internal_type': 'uast:Identifier', 'roles': ['CALL', 'CALLEE'], 'token': 'print', 'start_line': 3, 'end_line': 3}\n",
      "{'id': 14, 'internal_type': 'uast:FunctionType', 'roles': [], 'token': '', 'start_line': 0, 'end_line': 0}\n",
      "{'id': 15, 'internal_type': 'uast:Argument', 'roles': [], 'token': '', 'start_line': 2, 'end_line': 2}\n",
      "{'id': 16, 'internal_type': 'uast:Identifier', 'roles': [], 'token': 'args', 'start_line': 2, 'end_line': 2}\n",
      "{'id': 17, 'internal_type': 'java:ArrayType', 'roles': ['TYPE', 'PRIMITIVE', 'LIST'], 'token': '', 'start_line': 2, 'end_line': 2}\n",
      "{'id': 18, 'internal_type': 'java:Dimension', 'roles': ['TYPE', 'INCOMPLETE'], 'token': '', 'start_line': 2, 'end_line': 2}\n",
      "{'id': 19, 'internal_type': 'java:SimpleType', 'roles': ['TYPE'], 'token': '', 'start_line': 2, 'end_line': 2}\n",
      "{'id': 20, 'internal_type': 'uast:Identifier', 'roles': [], 'token': 'String', 'start_line': 2, 'end_line': 2}\n",
      "{'id': 21, 'internal_type': 'java:Modifier', 'roles': ['VISIBILITY', 'WORLD'], 'token': 'public', 'start_line': 1, 'end_line': 1}\n",
      "{'id': 22, 'internal_type': 'uast:Identifier', 'roles': [], 'token': 'HelloWorld', 'start_line': 1, 'end_line': 1}\n"
     ]
    }
   ],
   "source": [
    "from concurrent import futures\n",
    "import bblfsh\n",
    "import sys\n",
    "\n",
    "\n",
    "def get_node_properties (node_id, tree):\n",
    "   \n",
    "    node_properties  = {'id': node_id, 'internal_type': tree.internal_type, \n",
    "           'roles': [],\n",
    "           'token': \"\",\n",
    "           'start_line': tree.start_position.line,\n",
    "           'end_line': tree.end_position.line } \n",
    "    \n",
    "    if '@role' in tree.get_dict():\n",
    "         node_properties['roles'] = [bblfsh.role_name(r) for r in tree.roles]\n",
    "  \n",
    "    if tree.internal_type == 'uast:Identifier':\n",
    "        node_properties['token'] = tree.get()['Name']\n",
    "        \n",
    "    if tree.internal_type == 'java:Modifier':\n",
    "        node_properties['token'] = tree.token \n",
    "        \n",
    "  \n",
    "    return node_properties \n",
    "        \n",
    "\n",
    "class Tree :\n",
    "    def __init__(self, tree):\n",
    "        self.nodes = []\n",
    "        self.id = 0 \n",
    "        \n",
    "        self.__process__(tree)\n",
    "        \n",
    "    def __process__(self, tree):\n",
    "        \n",
    "        if '@type' in tree.get_dict():\n",
    "            node_properties = get_node_properties(self.id, tree)\n",
    "            self.nodes.append(node_properties)\n",
    "            self.id = self.id + 1\n",
    "   \n",
    "            num_children = len(tree.children)\n",
    "            for i in range (0, num_children):\n",
    "                self.__process__(tree.children[i])\n",
    "        \n",
    "\n",
    " \n",
    "if __name__ == \"__main__\":\n",
    "    client = bblfsh.BblfshClient(\"localhost:9432\")\n",
    "    it = client.parse(\"examples/HelloWorld.java\").ast\n",
    "\n",
    "    T = Tree (it)\n",
    "\n",
    "    for n in T.nodes:\n",
    "       print(n)\n",
    " \n",
    "\n"
   ]
  },
  {
   "cell_type": "code",
   "execution_count": null,
   "metadata": {},
   "outputs": [],
   "source": []
  },
  {
   "cell_type": "code",
   "execution_count": null,
   "metadata": {},
   "outputs": [],
   "source": []
  }
 ],
 "metadata": {
  "kernelspec": {
   "display_name": "Python 3",
   "language": "python",
   "name": "python3"
  },
  "language_info": {
   "codemirror_mode": {
    "name": "ipython",
    "version": 3
   },
   "file_extension": ".py",
   "mimetype": "text/x-python",
   "name": "python",
   "nbconvert_exporter": "python",
   "pygments_lexer": "ipython3",
   "version": "3.7.5"
  }
 },
 "nbformat": 4,
 "nbformat_minor": 2
}
